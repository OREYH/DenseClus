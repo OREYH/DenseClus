{
 "cells": [
  {
   "cell_type": "markdown",
   "metadata": {},
   "source": [
    "# On the Validation of UMAP\n",
    "\n",
    "\n",
    "There is not a large body of _practical_ work on validating [Uniform Manifold Approximation and Projection UMAP](https://arxiv.org/abs/1802.03426). In this blog post, I will show you a real example, in hopes to provide an additional method for validating the algorithm's results.\n",
    "\n",
    "In general, a common practice is to validate UMAP's convergence based on a downstream task. For example, in the case of classification, you use an objective metric such as [F1-Score](https://en.wikipedia.org/wiki/F-score) to confirm that the dimensionality reduction technique captured the underlying data structure. However, a high F1-Score **does not assure** that UMAP accurately captured the data's structure. High accuracy on the downstream task just tells you that the data is separable at lower-dimension, performing well given it's inputs.\n",
    "\n",
    "Simply put, use both a measure to evaluate the underlying data’s structure retention **and** a downstream task measure.  Trustworthiness and Continuity does the former.\n",
    "\n",
    "This blog post will walk you through how to run Trustworthiness and Continuity as an extra check using the DenseClus package to confirm that UMAP converged into a stable result.\n",
    "\n",
    "## Before that, What is UMAP?\n",
    "\n",
    "UMAP is a non-linear dimensionality reduction technique for high dimensional data. Visually similar to the t-SNE algorithm (also eclipsing it),  UMAP takes in the assumption that the data is uniformly distributed on a [locally connected](https://en.wikipedia.org/wiki/Locally_connected) [Riemannian manifold](https://en.wikipedia.org/wiki/Riemannian_manifold) and that the [Riemannian metric](https://en.wikipedia.org/wiki/Riemannian_metric) is locally constant or approximately locally constant (see: [UMAP: Uniform Manifold Approximation and Projection for Dimension Reduction — umap 0.3 documentation\"](https://umap-learn.readthedocs.io/en/latest/))\n",
    "\n",
    "In the [UMAP paper](https://arxiv.org/abs/1802.03426) (UMAP: Uniform Manifold Approximation and Projection McInnes et al 2018), there are proofs that require a PHD in Topology to fully comprehend.\n",
    "\n",
    "For now, let’s define it as a **neighbor-based** dimensionality reduction method that can handle numeric and/or categorical data.\n",
    "\n",
    "If you desire a deeper level of understanding, check out the UMAP documentation link above or one of the PyData talks by the authors.\n",
    "\n",
    "## Fitting a UMAP\n",
    "\n",
    "At any rate, let's grab some data to work with.\n",
    "\n",
    "You'll grab a data from the [Churn Pipeline](https://github.com/awslabs/aws-customer-churn-pipeline) repo directly the to run the example.\n",
    "\n",
    "The original churn dataset is publicly available and mentioned in the book [Discovering Knowledge in Data by Daniel T. Larose](https://www.amazon.com/dp/0470908742/). It is attributed by the author to the University of California Irvine Repository of Machine Learning Datasets.\n"
   ]
  },
  {
   "cell_type": "code",
   "execution_count": null,
   "metadata": {},
   "outputs": [],
   "source": [
    "# To supress deprecation warnings\n",
    "import logging\n",
    "from warnings import filterwarnings\n",
    "\n",
    "import matplotlib.pyplot as plt\n",
    "import numpy as np\n",
    "import pandas as pd\n",
    "import seaborn as sns\n",
    "from umap import validation\n",
    "\n",
    "from denseclus import DenseClus\n",
    "\n",
    "%matplotlib inline\n",
    "\n",
    "sns.set_style(\"darkgrid\", {\"axes.facecolor\": \".9\"})\n",
    "sns.set(rc={\"figure.figsize\": (10, 8)})\n",
    "\n",
    "SEED = 42\n",
    "np.random.seed(SEED)  # set the random seed as best we can\n",
    "\n",
    "data_url = (\n",
    "    \"https://raw.githubusercontent.com/awslabs/aws-customer-churn-pipeline/main/data/churn.txt\"\n",
    ")\n",
    "df = pd.read_csv(data_url).sample(n=2000, random_state=SEED)\n",
    "df.drop([\"Phone\", \"Area Code\"], axis=1, inplace=True)"
   ]
  },
  {
   "cell_type": "markdown",
   "metadata": {},
   "source": [
    "Next, now that a dataset it is loaded, let's fit Amazon [DenseClus](https://github.com/awslabs/amazon-denseclus) to it.\n",
    "Underneath the hood DenseClus runs UMAP and [HDBSCAN](https://github.com/scikit-learn-contrib/hdbscan) to fit coherent groups to mixed type data [Read more about it in this blog post here](https://aws.amazon.com/blogs/opensource/introducing-denseclus-an-open-source-clustering-package-for-mixed-type-data/).\n",
    "\n",
    "In essence, the below code fits two UMAP layers one for the numeric data and one for the categorical data, and then combines the two. For the most part, the preprocessing steps are taken care under the hood."
   ]
  },
  {
   "cell_type": "code",
   "execution_count": null,
   "metadata": {},
   "outputs": [],
   "source": [
    "logging.captureWarnings(True)\n",
    "\n",
    "\n",
    "clf = DenseClus(\n",
    "    random_state=SEED,\n",
    "    cluster_selection_method=\"leaf\",\n",
    "    umap_combine_method=\"intersection_union_mapper\",\n",
    ")\n",
    "\n",
    "clf.fit(df)\n",
    "\n",
    "logging.captureWarnings(False)"
   ]
  },
  {
   "cell_type": "markdown",
   "metadata": {},
   "source": [
    "Please note that, you are setting a seed here for reproducibility, this means UMAP is going to run on a single core. In the real world, you will not run on a single core. This means that real world results will vary between runs due to the algorithms stochastic nature.\n"
   ]
  },
  {
   "cell_type": "code",
   "execution_count": null,
   "metadata": {},
   "outputs": [],
   "source": [
    "clf.numerical_umap_.embedding_"
   ]
  },
  {
   "cell_type": "markdown",
   "metadata": {},
   "source": [
    "##  Trustworthiness Works\n",
    "\n",
    "Trustworthiness and Continuity measure how well a data’s structure is preserved after dimensionality reduction. \n",
    "\n",
    "Here, the distance of point *i* in high-dimensional space is measured against its k closest neighbours using rank order, and the extent to which each rank changes in low-dimensional space is measured. For n samples, let r(i,j) be the rank in distance of sample i to sample j in the high-dimensional space Uki. Similarly, let rˆ(i,j) be the rank of the distance between sample i and sample j in low-dimensional space Vki. Using the k-nearest neighbours, the map is considered trustworthy if these k neighbours are also placed close to point i in the low-dimensional space.\n",
    "\n",
    "Similarly, continuity measures the extent to which original clusters of datapoints are preserved, and can be considered the inverse to trustworthiness, finding sample points that are close to point i in low-dimensional space, but not in the high-dimensional plane.\n",
    "\n",
    "Scores for each calculations are output between 0 and 1. The higher the score, the more the local structure of the original dataset is retained in the UMAP embeddings.\n",
    "\n",
    "UMAP has a Numba optimized calculation  (under the validation sub-module) that will scale well to medium sized data.\n",
    "As noted [here](https://github.com/lmcinnes/umap/issues/6), another reference is in the [SKLearn library](https://github.com/scikit-learn/scikit-learn/blob/ccd3331f7eb3468ac96222dc5350e58c58ccba20/sklearn/manifold/t_sne.py#L394).\n",
    "\n",
    "Just like the above, the pairwise distance at point K is taken between the original data and the embedding. If any unexpected neighbors are found they are penalized in proportion to their rank based on the original data \n",
    "\n",
    "Enough of that, let's check that the embedding captured its neighbors in the underlying data.\n",
    "\n",
    "## Running Validation on the Data\n",
    "\n",
    "For this example you will set K=30, looking at 30 neighboring points for comparison.\n",
    "\n",
    "*Note: you are using the default euclidean distance calculation here but keep in mind that this is supported for alternative pari-wise or squared distances. Ultimately, this is a problem specific choice.*\n"
   ]
  },
  {
   "cell_type": "code",
   "execution_count": null,
   "metadata": {},
   "outputs": [],
   "source": [
    "K = 30\n",
    "\n",
    "# supress numba deprecation warnings from UMAP\n",
    "filterwarnings(\"ignore\")\n",
    "\n",
    "numerical_trustworthiness = validation.trustworthiness_vector(\n",
    "    source=clf.numerical_umap_._raw_data, embedding=clf.numerical_umap_.embedding_, max_k=K\n",
    ")\n",
    "\n",
    "categorical_trustworthiness = validation.trustworthiness_vector(\n",
    "    source=clf.categorical_umap_._raw_data, embedding=clf.categorical_umap_.embedding_, max_k=K\n",
    ")\n",
    "\n",
    "filterwarnings(\"default\")\n",
    "\n",
    "\n",
    "_ = plt.plot(numerical_trustworthiness)\n",
    "_ = plt.plot(categorical_trustworthiness)\n",
    "_ = plt.ylabel(\"Trustworthiness score\")\n",
    "_ = plt.xlabel(\"Value of K\")\n",
    "_ = plt.title(f\"Trustworthiness at {K}\")\n",
    "# _=plt.ylim(0,1)\n",
    "_ = plt.legend([\"numerical T\", \"categorical T\"], loc=\"upper right\")"
   ]
  },
  {
   "cell_type": "markdown",
   "metadata": {},
   "source": [
    "Generally speaking, a score above 0.80 is considered to be a **“good”** result.\n",
    "A lower score indicates that you need to look at input data and the UMAP parameters to find a better fit.\n",
    "Looking at the Trustworthiness from K=1 to K=30 for the numeric embedding we see it got to 0.96 at K=5 and then drop further to 0.90 at K=30.\n",
    "\n",
    "Likewise, for the categorical embedding K=5 is set at 0.94 and then drops to 0.93 at K=30, showing a better stability than the numeric data.\n",
    "\n",
    "DenseClus defaults at using K=30 for neighbors to generate the UMAP embeddings so this is fair comparison to make.\n",
    "\n",
    "## Conclusion\n",
    "\n",
    "In this blog post you learned how to to validate UMAP embeddings by using Trustworthiness to look at how far away neighboring points fall between the the source data and the embeddings.\n",
    "\n",
    "[DenseClus](https://aws.amazon.com/blogs/opensource/introducing-denseclus-an-open-source-clustering-package-for-mixed-type-data/) provided an easy way to demonstrate validating multiple embeddings in this way. Believe it or not, DenseClus combines the two into a third embedding space to compute clusters! However, this space does not have input data to compare as it is created via set operations between the UMAP graphs. The best way to further validate success here is by proceeding to running on a downstream task.\n",
    "\n",
    "In the next blog post, I will cover just this.\n",
    "\n",
    "If you got this far, thanks for reading :)\n",
    "\n",
    "Keep in mind that you've only scratched the surface here. It's possible to tune the multiple underlying hyperparameters available based on the downstream task method with Trustworthiness as a constraint.\n",
    "\n",
    "The notebook for this examples is posted under DenseClus's Github repo [here](https://github.com/awslabs/amazon-denseclus/tree/main/notebooks/Validating_UMAP_Example.ipynb)."
   ]
  },
  {
   "cell_type": "markdown",
   "metadata": {},
   "source": [
    "### References\n",
    "\n",
    "\"Uniform manifold approximation and projection for dimension reduction\", McInnes, Leland; Healy, John; Melville, James 2018\n",
    "\n",
    "“Neighborhood Preservation in Nonlinear Projection Methods: An Experimental Study”, Venna 2001\n",
    "\n",
    "“Semantically Controlled Adaptive Equalisation in Reduced Dimensionality Parameter Space“, Stasis et al 2016"
   ]
  }
 ],
 "metadata": {
  "kernelspec": {
   "display_name": "Python 3 (ipykernel)",
   "language": "python",
   "name": "python3"
  },
  "language_info": {
   "codemirror_mode": {
    "name": "ipython",
    "version": 3
   },
   "file_extension": ".py",
   "mimetype": "text/x-python",
   "name": "python",
   "nbconvert_exporter": "python",
   "pygments_lexer": "ipython3",
   "version": "3.8.13"
  }
 },
 "nbformat": 4,
 "nbformat_minor": 4
}
