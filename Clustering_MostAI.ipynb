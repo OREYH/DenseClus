{
 "cells": [
  {
   "cell_type": "markdown",
   "metadata": {},
   "source": [
    "#### 라이브러리 호출"
   ]
  },
  {
   "cell_type": "code",
   "execution_count": 1,
   "metadata": {},
   "outputs": [],
   "source": [
    "import logging  # to further silence deprecation warnings\n",
    "import warnings\n",
    "\n",
    "# Standard library\n",
    "import os\n",
    "\n",
    "# Data handling\n",
    "import numpy as np\n",
    "import pandas as pd\n",
    "\n",
    "# Visualization\n",
    "import matplotlib.pyplot as plt\n",
    "import seaborn as sns\n",
    "\n",
    "# Machine learning & clustering\n",
    "from sklearn import metrics, preprocessing\n",
    "from sklearn.metrics import make_scorer\n",
    "from sklearn.model_selection import RandomizedSearchCV\n",
    "import umap.umap_ as umap\n",
    "from umap import validation\n",
    "import hdbscan\n",
    "from hdbscan.validity import validity_index\n",
    "\n",
    "# Custom modules\n",
    "from denseclus import DenseClus\n",
    "\n",
    "# Suppress the specific FutureWarning from sklearn\n",
    "warnings.filterwarnings(\n",
    "    \"ignore\",\n",
    "    category=FutureWarning,\n",
    "    message=\".*force_all_finite.*\"\n",
    ")\n",
    "\n",
    "logging.captureWarnings(True)"
   ]
  },
  {
   "cell_type": "code",
   "execution_count": 2,
   "metadata": {},
   "outputs": [],
   "source": [
    "sns.set_style(\"darkgrid\", {\"axes.facecolor\": \".9\"})\n",
    "sns.set(rc={\"figure.figsize\": (10, 8)})"
   ]
  },
  {
   "cell_type": "markdown",
   "metadata": {},
   "source": [
    "#### 데이터 호출"
   ]
  },
  {
   "cell_type": "code",
   "execution_count": 3,
   "metadata": {},
   "outputs": [
    {
     "data": {
      "text/html": [
       "<div>\n",
       "<style scoped>\n",
       "    .dataframe tbody tr th:only-of-type {\n",
       "        vertical-align: middle;\n",
       "    }\n",
       "\n",
       "    .dataframe tbody tr th {\n",
       "        vertical-align: top;\n",
       "    }\n",
       "\n",
       "    .dataframe thead th {\n",
       "        text-align: right;\n",
       "    }\n",
       "</style>\n",
       "<table border=\"1\" class=\"dataframe\">\n",
       "  <thead>\n",
       "    <tr style=\"text-align: right;\">\n",
       "      <th></th>\n",
       "      <th>dog</th>\n",
       "      <th>cat</th>\n",
       "      <th>rabbit</th>\n",
       "      <th>deer</th>\n",
       "      <th>panda</th>\n",
       "      <th>koala</th>\n",
       "      <th>otter</th>\n",
       "      <th>hedgehog</th>\n",
       "      <th>squirrel</th>\n",
       "      <th>dolphin</th>\n",
       "      <th>...</th>\n",
       "      <th>blanket</th>\n",
       "      <th>button</th>\n",
       "      <th>whistle</th>\n",
       "      <th>marble</th>\n",
       "      <th>wagon</th>\n",
       "      <th>storybook</th>\n",
       "      <th>candle</th>\n",
       "      <th>clover</th>\n",
       "      <th>bubble</th>\n",
       "      <th>cookie</th>\n",
       "    </tr>\n",
       "  </thead>\n",
       "  <tbody>\n",
       "    <tr>\n",
       "      <th>0</th>\n",
       "      <td>10</td>\n",
       "      <td>A5DB</td>\n",
       "      <td>NaN</td>\n",
       "      <td>4.46</td>\n",
       "      <td>-2</td>\n",
       "      <td>T2</td>\n",
       "      <td>B9DE</td>\n",
       "      <td>51.8</td>\n",
       "      <td>0</td>\n",
       "      <td>1</td>\n",
       "      <td>...</td>\n",
       "      <td>A8</td>\n",
       "      <td>2</td>\n",
       "      <td>2</td>\n",
       "      <td>0</td>\n",
       "      <td>-0.76</td>\n",
       "      <td>-54</td>\n",
       "      <td>B2</td>\n",
       "      <td>0.38</td>\n",
       "      <td>0</td>\n",
       "      <td>C13</td>\n",
       "    </tr>\n",
       "    <tr>\n",
       "      <th>1</th>\n",
       "      <td>10</td>\n",
       "      <td>A5DB</td>\n",
       "      <td>NaN</td>\n",
       "      <td>4.42</td>\n",
       "      <td>0</td>\n",
       "      <td>T3</td>\n",
       "      <td>027A</td>\n",
       "      <td>72.2</td>\n",
       "      <td>1</td>\n",
       "      <td>1</td>\n",
       "      <td>...</td>\n",
       "      <td>A7</td>\n",
       "      <td>16</td>\n",
       "      <td>0</td>\n",
       "      <td>0</td>\n",
       "      <td>-0.76</td>\n",
       "      <td>-48</td>\n",
       "      <td>B0</td>\n",
       "      <td>0.16</td>\n",
       "      <td>0</td>\n",
       "      <td>C15</td>\n",
       "    </tr>\n",
       "    <tr>\n",
       "      <th>2</th>\n",
       "      <td>43</td>\n",
       "      <td>027A</td>\n",
       "      <td>8.0</td>\n",
       "      <td>3.11</td>\n",
       "      <td>-1</td>\n",
       "      <td>T0</td>\n",
       "      <td>B9DE</td>\n",
       "      <td>44.2</td>\n",
       "      <td>1</td>\n",
       "      <td>1</td>\n",
       "      <td>...</td>\n",
       "      <td>A4</td>\n",
       "      <td>-25</td>\n",
       "      <td>10</td>\n",
       "      <td>0</td>\n",
       "      <td>-0.88</td>\n",
       "      <td>-39</td>\n",
       "      <td>B0</td>\n",
       "      <td>0.13</td>\n",
       "      <td>0</td>\n",
       "      <td>C1</td>\n",
       "    </tr>\n",
       "    <tr>\n",
       "      <th>3</th>\n",
       "      <td>28</td>\n",
       "      <td>63D1</td>\n",
       "      <td>NaN</td>\n",
       "      <td>3.37</td>\n",
       "      <td>-1</td>\n",
       "      <td>T1</td>\n",
       "      <td>027A</td>\n",
       "      <td>41.0</td>\n",
       "      <td>0</td>\n",
       "      <td>1</td>\n",
       "      <td>...</td>\n",
       "      <td>A3</td>\n",
       "      <td>21</td>\n",
       "      <td>9</td>\n",
       "      <td>0</td>\n",
       "      <td>-0.85</td>\n",
       "      <td>-58</td>\n",
       "      <td>B1</td>\n",
       "      <td>0.29</td>\n",
       "      <td>1</td>\n",
       "      <td>C5</td>\n",
       "    </tr>\n",
       "    <tr>\n",
       "      <th>4</th>\n",
       "      <td>82</td>\n",
       "      <td>C09E</td>\n",
       "      <td>NaN</td>\n",
       "      <td>3.07</td>\n",
       "      <td>-6</td>\n",
       "      <td>T0</td>\n",
       "      <td>B9DE</td>\n",
       "      <td>46.4</td>\n",
       "      <td>1</td>\n",
       "      <td>1</td>\n",
       "      <td>...</td>\n",
       "      <td>A7</td>\n",
       "      <td>-4</td>\n",
       "      <td>13</td>\n",
       "      <td>0</td>\n",
       "      <td>-0.85</td>\n",
       "      <td>70</td>\n",
       "      <td>B2</td>\n",
       "      <td>0.75</td>\n",
       "      <td>1</td>\n",
       "      <td>C13</td>\n",
       "    </tr>\n",
       "  </tbody>\n",
       "</table>\n",
       "<p>5 rows × 80 columns</p>\n",
       "</div>"
      ],
      "text/plain": [
       "   dog   cat  rabbit  deer  panda koala otter  hedgehog  squirrel  dolphin  \\\n",
       "0   10  A5DB     NaN  4.46     -2    T2  B9DE      51.8         0        1   \n",
       "1   10  A5DB     NaN  4.42      0    T3  027A      72.2         1        1   \n",
       "2   43  027A     8.0  3.11     -1    T0  B9DE      44.2         1        1   \n",
       "3   28  63D1     NaN  3.37     -1    T1  027A      41.0         0        1   \n",
       "4   82  C09E     NaN  3.07     -6    T0  B9DE      46.4         1        1   \n",
       "\n",
       "   ...  blanket  button  whistle marble  wagon storybook  candle  clover  \\\n",
       "0  ...       A8       2        2      0  -0.76       -54      B2    0.38   \n",
       "1  ...       A7      16        0      0  -0.76       -48      B0    0.16   \n",
       "2  ...       A4     -25       10      0  -0.88       -39      B0    0.13   \n",
       "3  ...       A3      21        9      0  -0.85       -58      B1    0.29   \n",
       "4  ...       A7      -4       13      0  -0.85        70      B2    0.75   \n",
       "\n",
       "  bubble cookie  \n",
       "0      0    C13  \n",
       "1      0    C15  \n",
       "2      0     C1  \n",
       "3      1     C5  \n",
       "4      1    C13  \n",
       "\n",
       "[5 rows x 80 columns]"
      ]
     },
     "execution_count": 3,
     "metadata": {},
     "output_type": "execute_result"
    }
   ],
   "source": [
    "SEED = 42\n",
    "np.random.seed(SEED)  # set the random seed as best we can\n",
    "\n",
    "data_path = './data/flat-training.csv'\n",
    "\n",
    "df = pd.read_csv(data_path)\n",
    "\n",
    "# 결측치가 하나라도 있는 열을 제거\n",
    "#df = df.dropna(axis=1)\n",
    "\n",
    "#df = df.sample(n=2000, random_state=SEED)\n",
    "\n",
    "df.head(5)"
   ]
  },
  {
   "cell_type": "code",
   "execution_count": 4,
   "metadata": {},
   "outputs": [
    {
     "data": {
      "text/plain": [
       "dog            int64\n",
       "cat           object\n",
       "rabbit       float64\n",
       "deer         float64\n",
       "panda          int64\n",
       "              ...   \n",
       "storybook      int64\n",
       "candle        object\n",
       "clover       float64\n",
       "bubble         int64\n",
       "cookie        object\n",
       "Length: 80, dtype: object"
      ]
     },
     "execution_count": 4,
     "metadata": {},
     "output_type": "execute_result"
    }
   ],
   "source": [
    "df.dtypes"
   ]
  },
  {
   "cell_type": "code",
   "execution_count": null,
   "metadata": {},
   "outputs": [
    {
     "name": "stdout",
     "output_type": "stream",
     "text": [
      "Max of 90 is greater than threshold 25\n",
      "Hashing categorical features\n"
     ]
    }
   ],
   "source": [
    "clf = DenseClus(random_state=SEED, umap_combine_method=\"intersection\")\n",
    "\n",
    "clf.fit(df)"
   ]
  },
  {
   "cell_type": "code",
   "execution_count": null,
   "metadata": {},
   "outputs": [
    {
     "ename": "NameError",
     "evalue": "name 'clf' is not defined",
     "output_type": "error",
     "traceback": [
      "\u001b[0;31m---------------------------------------------------------------------------\u001b[0m",
      "\u001b[0;31mNameError\u001b[0m                                 Traceback (most recent call last)",
      "Cell \u001b[0;32mIn[6], line 1\u001b[0m\n\u001b[0;32m----> 1\u001b[0m embedding \u001b[38;5;241m=\u001b[39m clf\u001b[38;5;241m.\u001b[39mmapper_\u001b[38;5;241m.\u001b[39membedding_\n\u001b[1;32m      2\u001b[0m labels \u001b[38;5;241m=\u001b[39m clf\u001b[38;5;241m.\u001b[39mevaluate()\n\u001b[1;32m      3\u001b[0m clustered \u001b[38;5;241m=\u001b[39m labels \u001b[38;5;241m>\u001b[39m\u001b[38;5;241m=\u001b[39m \u001b[38;5;241m0\u001b[39m\n",
      "\u001b[0;31mNameError\u001b[0m: name 'clf' is not defined"
     ]
    }
   ],
   "source": [
    "embedding = clf.mapper_.embedding_\n",
    "labels = clf.evaluate()\n",
    "clustered = labels >= 0\n",
    "\n",
    "cnts = pd.DataFrame(labels)[0].value_counts()\n",
    "cnts = cnts.reset_index()\n",
    "cnts.columns = [\"cluster\", \"count\"]\n",
    "print(cnts.sort_values([\"cluster\"], ignore_index=True))"
   ]
  },
  {
   "cell_type": "code",
   "execution_count": null,
   "metadata": {},
   "outputs": [],
   "source": [
    "np.unique(labels)"
   ]
  },
  {
   "cell_type": "code",
   "execution_count": null,
   "metadata": {},
   "outputs": [],
   "source": [
    "embedding.shape"
   ]
  },
  {
   "cell_type": "code",
   "execution_count": null,
   "metadata": {},
   "outputs": [],
   "source": [
    "_ = sns.jointplot(\n",
    "    x=embedding[clustered, 0], y=embedding[clustered, 1], hue=labels[clustered], kind=\"kde\"\n",
    ")\n",
    "\n",
    "plt.show()"
   ]
  },
  {
   "cell_type": "code",
   "execution_count": null,
   "metadata": {},
   "outputs": [],
   "source": [
    "_ = clf.hdbscan_.condensed_tree_.plot(\n",
    "    select_clusters=True,\n",
    "    selection_palette=sns.color_palette(\"deep\", np.unique(clustered).shape[0]),\n",
    ")\n",
    "\n",
    "plt.show()"
   ]
  },
  {
   "cell_type": "code",
   "execution_count": null,
   "metadata": {},
   "outputs": [],
   "source": [
    "coverage = np.sum(clustered) / embedding.shape[0]\n",
    "\n",
    "print(f\"Coverage {coverage}\")\n",
    "print(f\"DBCV score {clf.hdbscan_.relative_validity_}\")"
   ]
  },
  {
   "cell_type": "code",
   "execution_count": null,
   "metadata": {},
   "outputs": [],
   "source": [
    "for i in range(len(clf.mapper_.embedding_[0])):\n",
    "    sns.kdeplot(clf.mapper_.embedding_[:, i], fill=True)\n",
    "\n",
    "plt.show()"
   ]
  },
  {
   "cell_type": "code",
   "execution_count": null,
   "metadata": {},
   "outputs": [],
   "source": [
    "K = 50\n",
    "\n",
    "# supress numba deprecation warnings from UMAP\n",
    "filterwarnings(\"ignore\")\n",
    "\n",
    "numerical_trustworthiness = validation.trustworthiness_vector(\n",
    "    source=clf.numerical_umap_._raw_data, embedding=clf.numerical_umap_.embedding_, max_k=K\n",
    ")\n",
    "\n",
    "categorical_trustworthiness = validation.trustworthiness_vector(\n",
    "    source=clf.categorical_umap_._raw_data, embedding=clf.categorical_umap_.embedding_, max_k=K\n",
    ")\n",
    "\n",
    "filterwarnings(\"default\")\n",
    "\n",
    "\n",
    "plt.plot(numerical_trustworthiness)\n",
    "plt.plot(categorical_trustworthiness)\n",
    "plt.ylabel(\"Trustworthiness score\")\n",
    "plt.xlabel(\"Value of K\")\n",
    "plt.title(f\"Trustworthiness at {K}\")\n",
    "\n",
    "plt.legend([\"numerical T\", \"categorical T\"], loc=\"upper right\")\n",
    "\n",
    "plt.show()"
   ]
  },
  {
   "cell_type": "markdown",
   "metadata": {},
   "source": [
    "#### 클러스터링 결과 저장"
   ]
  },
  {
   "cell_type": "code",
   "execution_count": null,
   "metadata": {},
   "outputs": [],
   "source": [
    "SAVE_PATH = './results'\n",
    "\n",
    "df['segment'] = clf.evaluate()\n",
    "\n",
    "# CSV로 저장\n",
    "df.to_csv(os.path.join(SAVE_PATH, \"clustered_data.csv\"), index=False)"
   ]
  }
 ],
 "metadata": {
  "kernelspec": {
   "display_name": "torch_ev",
   "language": "python",
   "name": "python3"
  },
  "language_info": {
   "codemirror_mode": {
    "name": "ipython",
    "version": 3
   },
   "file_extension": ".py",
   "mimetype": "text/x-python",
   "name": "python",
   "nbconvert_exporter": "python",
   "pygments_lexer": "ipython3",
   "version": "3.11.11"
  },
  "latex_envs": {
   "LaTeX_envs_menu_present": true,
   "autoclose": false,
   "autocomplete": true,
   "bibliofile": "biblio.bib",
   "cite_by": "apalike",
   "current_citInitial": 1,
   "eqLabelWithNumbers": true,
   "eqNumInitial": 1,
   "hotkeys": {
    "equation": "Ctrl-E",
    "itemize": "Ctrl-I"
   },
   "labels_anchors": false,
   "latex_user_defs": false,
   "report_style_numbering": false,
   "user_envs_cfg": false
  }
 },
 "nbformat": 4,
 "nbformat_minor": 4
}
