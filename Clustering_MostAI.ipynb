{
 "cells": [
  {
   "cell_type": "markdown",
   "id": "e95e9dc4",
   "metadata": {},
   "source": [
    "# DenseClus 클러스터링 예제"
   ]
  },
  {
   "cell_type": "markdown",
   "id": "150fbdf6",
   "metadata": {},
   "source": [
    "## 1. 라이브러리 호출"
   ]
  },
  {
   "cell_type": "code",
   "execution_count": null,
   "id": "0bd7a43b",
   "metadata": {},
   "outputs": [],
   "source": [
    "\n",
    "import logging\n",
    "import warnings\n",
    "\n",
    "# Standard library\n",
    "import os\n",
    "\n",
    "# Data handling\n",
    "import numpy as np\n",
    "import pandas as pd\n",
    "\n",
    "# Visualization\n",
    "import matplotlib.pyplot as plt\n",
    "import seaborn as sns\n",
    "\n",
    "# Machine learning & clustering\n",
    "from sklearn import metrics, preprocessing\n",
    "from sklearn.metrics import make_scorer\n",
    "from sklearn.model_selection import RandomizedSearchCV\n",
    "import umap.umap_ as umap\n",
    "from umap import validation\n",
    "import hdbscan\n",
    "from hdbscan.validity import validity_index\n",
    "\n",
    "# Custom modules\n",
    "from denseclus import DenseClus\n",
    "\n",
    "warnings.filterwarnings(\n",
    "    \"ignore\",\n",
    "    category=FutureWarning,\n",
    "    message=\".*force_all_finite.*\"\n",
    ")\n",
    "\n",
    "logging.captureWarnings(True)\n"
   ]
  },
  {
   "cell_type": "code",
   "execution_count": null,
   "id": "baa95937",
   "metadata": {},
   "outputs": [],
   "source": [
    "sns.set_theme(style=\"darkgrid\", rc={\"figure.figsize\": (10, 8)})"
   ]
  },
  {
   "cell_type": "markdown",
   "id": "e06aaf8a",
   "metadata": {},
   "source": [
    "## 2. 데이터 불러오기"
   ]
  },
  {
   "cell_type": "code",
   "execution_count": null,
   "id": "a2629cc1",
   "metadata": {},
   "outputs": [],
   "source": [
    "\n",
    "SEED = 42\n",
    "np.random.seed(SEED)\n",
    "\n",
    "data_path = './data/flat-training.csv'\n",
    "\n",
    "df = pd.read_csv(data_path)\n",
    "\n",
    "# 필요한 경우 샘플링 또는 결측 열 제거\n",
    "# df = df.dropna(axis=1)\n",
    "# df = df.sample(n=2000, random_state=SEED)\n",
    "\n",
    "df.head()\n"
   ]
  },
  {
   "cell_type": "markdown",
   "id": "f97cea9c",
   "metadata": {},
   "source": [
    "## 3. 데이터 타입 확인"
   ]
  },
  {
   "cell_type": "code",
   "execution_count": null,
   "id": "0cd014d9",
   "metadata": {},
   "outputs": [],
   "source": [
    "df.dtypes"
   ]
  },
  {
   "cell_type": "markdown",
   "id": "38962c75",
   "metadata": {},
   "source": [
    "## 4. DenseClus 학습"
   ]
  },
  {
   "cell_type": "code",
   "execution_count": null,
   "id": "9bbbf550",
   "metadata": {},
   "outputs": [],
   "source": [
    "\n",
    "clf = DenseClus(random_state=SEED, umap_combine_method=\"intersection\")\n",
    "clf.fit(df)\n"
   ]
  },
  {
   "cell_type": "markdown",
   "id": "9ea5ae01",
   "metadata": {},
   "source": [
    "## 5. 클러스터 통계"
   ]
  },
  {
   "cell_type": "code",
   "execution_count": null,
   "id": "f33fcf2c",
   "metadata": {},
   "outputs": [],
   "source": [
    "\n",
    "embedding = clf.mapper_.embedding_\n",
    "labels = clf.evaluate()\n",
    "clustered = labels >= 0\n",
    "\n",
    "cnts = pd.DataFrame(labels)[0].value_counts().reset_index()\n",
    "cnts.columns = [\"cluster\", \"count\"]\n",
    "print(cnts.sort_values(\"cluster\").reset_index(drop=True))\n"
   ]
  },
  {
   "cell_type": "code",
   "execution_count": null,
   "id": "cdf36407",
   "metadata": {},
   "outputs": [],
   "source": [
    "np.unique(labels)"
   ]
  },
  {
   "cell_type": "code",
   "execution_count": null,
   "id": "970fb16e",
   "metadata": {},
   "outputs": [],
   "source": [
    "embedding.shape"
   ]
  },
  {
   "cell_type": "markdown",
   "id": "51a1c64a",
   "metadata": {},
   "source": [
    "## 6. 임베딩 시각화"
   ]
  },
  {
   "cell_type": "code",
   "execution_count": null,
   "id": "40001ba5",
   "metadata": {},
   "outputs": [],
   "source": [
    "\n",
    "_ = sns.jointplot(\n",
    "    x=embedding[clustered, 0],\n",
    "    y=embedding[clustered, 1],\n",
    "    hue=labels[clustered],\n",
    "    kind=\"kde\",\n",
    ")\n",
    "plt.show()\n"
   ]
  },
  {
   "cell_type": "markdown",
   "id": "014bd287",
   "metadata": {},
   "source": [
    "## 7. Condensed Tree 시각화"
   ]
  },
  {
   "cell_type": "code",
   "execution_count": null,
   "id": "f244d5e9",
   "metadata": {},
   "outputs": [],
   "source": [
    "\n",
    "_ = clf.hdbscan_.condensed_tree_.plot(\n",
    "    select_clusters=True,\n",
    "    selection_palette=sns.color_palette(\"deep\", np.unique(clustered).shape[0]),\n",
    ")\n",
    "plt.show()\n"
   ]
  },
  {
   "cell_type": "markdown",
   "id": "ac82caf9",
   "metadata": {},
   "source": [
    "## 8. 커버리지와 DBCV 점수"
   ]
  },
  {
   "cell_type": "code",
   "execution_count": null,
   "id": "980c8956",
   "metadata": {},
   "outputs": [],
   "source": [
    "\n",
    "coverage = np.sum(clustered) / embedding.shape[0]\n",
    "print(f\"Coverage {coverage}\")\n",
    "print(f\"DBCV score {clf.hdbscan_.relative_validity_}\")\n"
   ]
  },
  {
   "cell_type": "markdown",
   "id": "f51e5550",
   "metadata": {},
   "source": [
    "## 9. 임베딩 분포"
   ]
  },
  {
   "cell_type": "code",
   "execution_count": null,
   "id": "340a9375",
   "metadata": {},
   "outputs": [],
   "source": [
    "\n",
    "for i in range(clf.mapper_.embedding_.shape[1]):\n",
    "    sns.kdeplot(clf.mapper_.embedding_[:, i], fill=True)\n",
    "plt.show()\n"
   ]
  },
  {
   "cell_type": "markdown",
   "id": "29c0a22c",
   "metadata": {},
   "source": [
    "## 10. UMAP Trustworthiness"
   ]
  },
  {
   "cell_type": "code",
   "execution_count": null,
   "id": "d2be0738",
   "metadata": {},
   "outputs": [],
   "source": [
    "\n",
    "K = 50\n",
    "\n",
    "# suppress numba deprecation warnings from UMAP\n",
    "warnings.filterwarnings(\"ignore\")\n",
    "\n",
    "numerical_trustworthiness = validation.trustworthiness_vector(\n",
    "    source=clf.numerical_umap_._raw_data,\n",
    "    embedding=clf.numerical_umap_.embedding_,\n",
    "    max_k=K,\n",
    ")\n",
    "\n",
    "categorical_trustworthiness = validation.trustworthiness_vector(\n",
    "    source=clf.categorical_umap_._raw_data,\n",
    "    embedding=clf.categorical_umap_.embedding_,\n",
    "    max_k=K,\n",
    ")\n",
    "\n",
    "warnings.filterwarnings(\"default\")\n",
    "\n",
    "plt.plot(numerical_trustworthiness)\n",
    "plt.plot(categorical_trustworthiness)\n",
    "plt.ylabel(\"Trustworthiness score\")\n",
    "plt.xlabel(\"Value of K\")\n",
    "plt.title(f\"Trustworthiness at {K}\")\n",
    "plt.legend([\"numerical T\", \"categorical T\"], loc=\"upper right\")\n",
    "plt.show()\n"
   ]
  },
  {
   "cell_type": "markdown",
   "id": "ca642a5f",
   "metadata": {},
   "source": [
    "## 11. 클러스터링 결과 저장"
   ]
  },
  {
   "cell_type": "code",
   "execution_count": null,
   "id": "c914a0b0",
   "metadata": {},
   "outputs": [],
   "source": [
    "\n",
    "SAVE_PATH = './results'\n",
    "\n",
    "df['segment'] = clf.evaluate()\n",
    "\n",
    "df.to_csv(os.path.join(SAVE_PATH, 'clustered_data.csv'), index=False)\n"
   ]
  }
 ],
 "metadata": {},
 "nbformat": 4,
 "nbformat_minor": 5
}
